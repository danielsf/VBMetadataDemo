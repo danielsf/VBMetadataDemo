{
 "cells": [
  {
   "cell_type": "markdown",
   "id": "material-blink",
   "metadata": {},
   "source": [
    "Copy Wayne's\n",
    "```\n",
    "/allen/aibs/technology/waynew/behavior/behavior_only_nwb/20210227_visual_behavior_big_table.csv\n",
    "```\n",
    "into `data/`"
   ]
  },
  {
   "cell_type": "markdown",
   "id": "boolean-earth",
   "metadata": {},
   "source": [
    "To run this off-premises, you will also need to set up an ssh tunnel connecting your local machine to the test warehouse, i.e.\n",
    "```\n",
    "ssh -L 8080:testwarehouse:9000 your.username@synapse.corp.alleninstitute.org\n",
    "```"
   ]
  },
  {
   "cell_type": "markdown",
   "id": "separate-zambia",
   "metadata": {},
   "source": [
    "Define a class (that really just wraps pandas) to do the manipulation of the metadata"
   ]
  },
  {
   "cell_type": "code",
   "execution_count": 97,
   "id": "local-projection",
   "metadata": {},
   "outputs": [],
   "source": [
    "import pandas as pd\n",
    "import requests\n",
    "from requests_toolbelt.downloadutils import stream\n",
    "import hashlib\n",
    "import json\n",
    "import os\n",
    "from contextlib import closing\n",
    "import warnings\n",
    "import time"
   ]
  },
  {
   "cell_type": "code",
   "execution_count": 98,
   "id": "devoted-bulgaria",
   "metadata": {},
   "outputs": [],
   "source": [
    "def get_md5_checksum(file_path):\n",
    "    checker = hashlib.md5()\n",
    "    with open(file_path, 'rb') as in_file:\n",
    "        chunk = in_file.read(1000000)\n",
    "        while len(chunk)>0:\n",
    "            checker.update(chunk)\n",
    "            chunk = in_file.read(1000000)\n",
    "    return checker.hexdigest()"
   ]
  },
  {
   "cell_type": "code",
   "execution_count": 118,
   "id": "christian-filing",
   "metadata": {},
   "outputs": [],
   "source": [
    "class MetadataCache(object):\n",
    "\n",
    "    def update_manifest(self):\n",
    "        \"\"\"\n",
    "        Write contents of self._manifest to self._manifest_path\n",
    "        \"\"\"\n",
    "        with open(self._manifest_path, 'w') as out_file:\n",
    "            out_file.write(json.dumps(self._manifest, indent=2, sort_keys=True))\n",
    "\n",
    "    def _download_file(self, file_url, file_path):\n",
    "        \"\"\"\n",
    "        Actually download the file from file_url and save\n",
    "        it to file_path\n",
    "        \"\"\"\n",
    "        try:\n",
    "            with closing(requests.get(file_url, stream=True)) as response:\n",
    "                response.raise_for_status()\n",
    "                with open(file_path, 'wb') as out_file:\n",
    "                    stream.stream_response_to_file(response, path=out_file)\n",
    "        except:\n",
    "            if os.path.exists(file_path):\n",
    "                os.unlink(file_path)\n",
    "            raise\n",
    "\n",
    "    def _check_for_file(self, file_url, file_version):\n",
    "        \"\"\"\n",
    "        Returns True if the file has already been downloaded;\n",
    "        False otherwise\n",
    "        (Will also return False if the md5 checksum of the file on\n",
    "        disk is not what the manifest says to expect)\n",
    "        \"\"\"\n",
    "        if file_version not in self._manifest:\n",
    "            return False\n",
    "\n",
    "        if file_url not in self._manifest[file_version]:\n",
    "            return False\n",
    "\n",
    "        target_checksum = self._manifest[file_version][file_url]['md5_checksum']\n",
    "        file_path = self._manifest[file_version][file_url]['file_path']\n",
    "        checksum = get_md5_checksum(file_path)\n",
    "\n",
    "        if checksum != target_checksum:\n",
    "            warnings.warn('checksum changed; deleting old file')\n",
    "            os.unlink(file_path)\n",
    "            self._manifest[file_version].pop(file_url)\n",
    "            self.update_manifest()\n",
    "            return False\n",
    "        return True\n",
    "        \n",
    "    def get_file(self, file_url, file_version):\n",
    "        \"\"\"\n",
    "        file_url -- url to file\n",
    "        file_version -- string denoting version of the file to download\n",
    "                        (not actually sure how we are going to do versioning)\n",
    "\n",
    "        Returns\n",
    "        -------\n",
    "        Path to the downloaded file on the local system\n",
    "         \"\"\"\n",
    "\n",
    "        if self._check_for_file(file_url=file_url, file_version=file_version):\n",
    "            return self._manifest[file_version][file_url]['file_path']\n",
    "\n",
    "        print(f\"Actually downloading {file_url} version {file_version}\")\n",
    "\n",
    "        # create a sub directory for files with this version tag\n",
    "        version_dir = os.path.join(self.cache_dir, file_version)\n",
    "        if not os.path.exists(version_dir):\n",
    "            os.makedirs(version_dir)\n",
    "        if not os.path.isdir(version_dir):\n",
    "            raise RuntimeError(f\"\\n{version_dir}\\nis not a directory\")\n",
    "\n",
    "        # the path where we will actually store the downloaded file\n",
    "        file_path = os.path.join(version_dir,\n",
    "                                 os.path.basename(file_url)+'.nwb')\n",
    "            \n",
    "        # make sure it does not exist yet\n",
    "        if os.path.exists(file_path):\n",
    "            raise RuntimeError(f\"\\ntrying to create {file_path}\\nbut it already exists\")\n",
    "            \n",
    "        # download the file\n",
    "        self._download_file(file_url, file_path)\n",
    "\n",
    "        checksum = get_md5_checksum(file_path)\n",
    "        \n",
    "        # update the manifest\n",
    "        if file_version not in self._manifest:\n",
    "            self._manifest[file_version] = {}\n",
    "\n",
    "        self._manifest[file_version][file_url] = {'file_path': file_path,\n",
    "                                                  'md5_checksum': checksum}\n",
    "        self.update_manifest()\n",
    "\n",
    "        return file_path\n",
    "                  \n",
    "    @property\n",
    "    def dataframe(self):\n",
    "        return self._dataframe\n",
    "\n",
    "    def __init__(self,\n",
    "                 metadata_file = 'data/20210227_visual_behavior_big_table.csv',\n",
    "                 cache_dir = None):\n",
    "        \"\"\"\n",
    "        metadata_file -- path to the metadata csv file\n",
    "        manifest_dir -- directory where manifest of donwloaded files will be kept\n",
    "        \"\"\"\n",
    "\n",
    "        self._warehouse_host = 'localhost:8080'\n",
    "        \n",
    "        self._dataframe = pd.read_csv(metadata_file)\n",
    "\n",
    "        if cache_dir is None:\n",
    "            this_dir = os.path.abspath('')\n",
    "            cache_dir = os.path.join(this_dir, 'data/cache')\n",
    "        self.cache_dir = cache_dir\n",
    "\n",
    "        if not os.path.exists(self.cache_dir):\n",
    "            os.makedirs(self.cache_dir)\n",
    "\n",
    "        if not os.path.isdir(self.cache_dir):\n",
    "            raise RuntimeError(f\"\\ncache_dir\\n{self.cache_dir}\\nis not a dir\")\n",
    "\n",
    "        self._manifest_path = os.path.join(self.cache_dir, 'manifest.json')\n",
    "        if os.path.exists(self._manifest_path):\n",
    "            if not os.path.isfile(self._manifest_path):\n",
    "                raise RuntimeError(f\"\\nmanifest_path\\n{self._manifest_path}\\nis not a file\")\n",
    "            with open(self._manifest_path, 'rb') as in_file:\n",
    "                self._manifest = json.load(in_file)\n",
    "        else:\n",
    "            warnings.warn(\"Creating new manifest; all data will be re-downloaded\")\n",
    "            self._manifest = {}\n",
    "            self.update_manifest()\n",
    "\n",
    "    def _all_possible(self, column_name):\n",
    "        \"\"\"\n",
    "        List all possible values for a column\n",
    "        \n",
    "        column_name -- a str; the name of the column\n",
    "        \n",
    "        Returns an unsorted set of possible values; returns None of column\n",
    "        does not exist\n",
    "        \"\"\"\n",
    "        if column_name not in self.dataframe.columns:\n",
    "            return None\n",
    "        values = set(self.dataframe[column_name])\n",
    "        return values\n",
    "\n",
    "    def get_all_reporter_lines(self):\n",
    "        return self._all_possible('reporter_line')\n",
    "\n",
    "    def get_all_targeted_structures(self):\n",
    "        return self._all_possible('targeted_structure')\n",
    "\n",
    "    def get_all_genotypes(self):\n",
    "        return self._all_possible('full_genotype')"
   ]
  },
  {
   "cell_type": "code",
   "execution_count": 128,
   "id": "happy-apartment",
   "metadata": {},
   "outputs": [
    {
     "name": "stderr",
     "output_type": "stream",
     "text": [
      "<ipython-input-118-bdc7fee76df1>:120: UserWarning: Creating new manifest; all data will be re-downloaded\n",
      "  warnings.warn(\"Creating new manifest; all data will be re-downloaded\")\n"
     ]
    }
   ],
   "source": [
    "cache = MetadataCache()"
   ]
  },
  {
   "cell_type": "code",
   "execution_count": 129,
   "id": "packed-outside",
   "metadata": {},
   "outputs": [],
   "source": [
    "uri = 'http://localhost:8080/api/v2/well_known_file_download/1085755199'"
   ]
  },
  {
   "cell_type": "code",
   "execution_count": 131,
   "id": "emerging-treat",
   "metadata": {},
   "outputs": [
    {
     "name": "stdout",
     "output_type": "stream",
     "text": [
      "Actually downloading http://localhost:8080/api/v2/well_known_file_download/1085755199 version v0\n"
     ]
    },
    {
     "data": {
      "text/plain": [
       "'/Users/scott.daniel/Pika/VBMetadataDemo/data/cache/v0/1085755199.nwb'"
      ]
     },
     "execution_count": 131,
     "metadata": {},
     "output_type": "execute_result"
    }
   ],
   "source": [
    "cache.get_file(file_url=uri, file_version='v0')"
   ]
  },
  {
   "cell_type": "code",
   "execution_count": 21,
   "id": "blind-warehouse",
   "metadata": {},
   "outputs": [
    {
     "data": {
      "text/plain": [
       "['1085755199.nwb']"
      ]
     },
     "execution_count": 21,
     "metadata": {},
     "output_type": "execute_result"
    }
   ],
   "source": [
    "os.listdir('/Users/scott.daniel/Pika/data/cache/v0')"
   ]
  },
  {
   "cell_type": "code",
   "execution_count": 22,
   "id": "oriented-arbor",
   "metadata": {},
   "outputs": [
    {
     "data": {
      "text/plain": [
       "'/Users/scott.daniel/Pika/VBMetadataDemo'"
      ]
     },
     "execution_count": 22,
     "metadata": {},
     "output_type": "execute_result"
    }
   ],
   "source": [
    "os.path.abspath('')"
   ]
  },
  {
   "cell_type": "code",
   "execution_count": 123,
   "id": "maritime-guidance",
   "metadata": {},
   "outputs": [
    {
     "name": "stderr",
     "output_type": "stream",
     "text": [
      "<ipython-input-118-bdc7fee76df1>:33: UserWarning: checksum changed; deleting old file\n",
      "  warnings.warn('checksum changed; deleting old file')\n"
     ]
    },
    {
     "name": "stdout",
     "output_type": "stream",
     "text": [
      "Actually downloading http://localhost:8080/api/v2/well_known_file_download/1085755199 version v0\n"
     ]
    },
    {
     "data": {
      "text/plain": [
       "'/Users/scott.daniel/Pika/VBMetadataDemo/data/cache/v0/1085755199.nwb'"
      ]
     },
     "execution_count": 123,
     "metadata": {},
     "output_type": "execute_result"
    }
   ],
   "source": [
    "cache.get_file(file_url=uri, file_version='v0')"
   ]
  },
  {
   "cell_type": "code",
   "execution_count": 111,
   "id": "middle-bridge",
   "metadata": {},
   "outputs": [
    {
     "data": {
      "text/plain": [
       "{'VISl', 'VISp', nan}"
      ]
     },
     "execution_count": 111,
     "metadata": {},
     "output_type": "execute_result"
    }
   ],
   "source": [
    "cache.get_all_targeted_structures()"
   ]
  },
  {
   "cell_type": "code",
   "execution_count": 112,
   "id": "organic-research",
   "metadata": {},
   "outputs": [
    {
     "data": {
      "text/plain": [
       "{'Ai148(TIT2L-GC6f-ICL-tTA2)', 'Ai93(TITL-GCaMP6f)', 'Ai94(TITL-GCaMP6s)'}"
      ]
     },
     "execution_count": 112,
     "metadata": {},
     "output_type": "execute_result"
    }
   ],
   "source": [
    "cache.get_all_reporter_lines()"
   ]
  },
  {
   "cell_type": "code",
   "execution_count": 117,
   "id": "seventh-persian",
   "metadata": {},
   "outputs": [
    {
     "data": {
      "text/plain": [
       "{'Slc17a7-IRES2-Cre/wt;Camk2a-tTA/wt;Ai93(TITL-GCaMP6f)/wt',\n",
       " 'Slc17a7-IRES2-Cre/wt;Camk2a-tTA/wt;Ai94(TITL-GCaMP6s)/wt',\n",
       " 'Sst-IRES-Cre/wt;Ai148(TIT2L-GC6f-ICL-tTA2)/wt',\n",
       " 'Vip-IRES-Cre/wt;Ai148(TIT2L-GC6f-ICL-tTA2)/wt'}"
      ]
     },
     "execution_count": 117,
     "metadata": {},
     "output_type": "execute_result"
    }
   ],
   "source": [
    "cache.get_all_genotypes()"
   ]
  },
  {
   "cell_type": "code",
   "execution_count": null,
   "id": "greater-martin",
   "metadata": {},
   "outputs": [],
   "source": []
  }
 ],
 "metadata": {
  "kernelspec": {
   "display_name": "Python 3",
   "language": "python",
   "name": "python3"
  },
  "language_info": {
   "codemirror_mode": {
    "name": "ipython",
    "version": 3
   },
   "file_extension": ".py",
   "mimetype": "text/x-python",
   "name": "python",
   "nbconvert_exporter": "python",
   "pygments_lexer": "ipython3",
   "version": "3.8.5"
  }
 },
 "nbformat": 4,
 "nbformat_minor": 5
}
